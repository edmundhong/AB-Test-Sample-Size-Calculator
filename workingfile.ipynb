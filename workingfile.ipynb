{
 "cells": [
  {
   "cell_type": "markdown",
   "id": "7308c436",
   "metadata": {},
   "source": [
    "## AB Test Sample Size Calculator"
   ]
  },
  {
   "cell_type": "markdown",
   "id": "e6c9d8b8",
   "metadata": {},
   "source": [
    "A/B testing, is an experimental process that often used by Data Scientists or Analysts to determine the better variation of a new implementation. The application is used widely ranging from website design, payment gateway, funnel conversion to workflow enhancement. For this project, we are going to calculate the sample size needed for 50-50 A/B Testing based on several inputs by users.\n",
    "\n"
   ]
  },
  {
   "cell_type": "markdown",
   "id": "0cf75b14",
   "metadata": {},
   "source": [
    "### Libraries used "
   ]
  },
  {
   "cell_type": "code",
   "execution_count": 1,
   "id": "f5c1fc1f",
   "metadata": {},
   "outputs": [],
   "source": [
    "# import libraries\n",
    "\n",
    "from scipy import stats\n",
    "import numpy as np"
   ]
  },
  {
   "cell_type": "markdown",
   "id": "7ec4d139",
   "metadata": {},
   "source": [
    "### Main Components in A/B Testing\n",
    "\n",
    "1. Baseline Conversion Rate\n",
    "2. Minimum Detectable Effect\n",
    "3. Significance Threshold"
   ]
  },
  {
   "cell_type": "code",
   "execution_count": 13,
   "id": "8cd49a08",
   "metadata": {},
   "outputs": [],
   "source": [
    "# User Input\n",
    "\n",
    "# function to check for invalid inputs\n",
    "def check_input(input_string):\n",
    "    while True:\n",
    "        try:\n",
    "            value = int(input(input_string))\n",
    "        except:\n",
    "            print(\"Please input an integer from 1-100!\")\n",
    "            continue\n",
    "        else:\n",
    "            break\n",
    "    return value\n",
    "   \n",
    "# input by user \n",
    "baseline_conversion_rate = check_input(\"Baseline Conversion Rate(%): \")/100\n",
    "minimum_detectable_effect = check_input(\"Minimum Detectable Effect(%): \")/100\n",
    "alpha = check_input(\"Significance Threshold(%): \")/100\n",
    "desired_output = baseline_conversion_rate*(1+minimum_detectable_effect)\n",
    "\n",
    "# Default Value\n",
    "beta = 0.8 "
   ]
  },
  {
   "cell_type": "markdown",
   "id": "063e49f0",
   "metadata": {},
   "source": [
    "### Sample Size Calculation"
   ]
  },
  {
   "cell_type": "code",
   "execution_count": 14,
   "id": "9f0fa82f",
   "metadata": {},
   "outputs": [],
   "source": [
    "# pooled variance estimator formula\n",
    "pooled_variance_estimator = baseline_conversion_rate*(1-baseline_conversion_rate) + desired_output*(1-desired_output)\n",
    "\n",
    "# critical values of alpha and beta\n",
    "alpha_critical_value = round(stats.norm.ppf(1-alpha/2),2)\n",
    "beta_critical_value = round(stats.norm.ppf(beta),2)\n",
    "\n",
    "# sample size formula \n",
    "sample_size = pooled_variance_estimator*pow(alpha_critical_value+beta_critical_value,2)/pow(desired_output-baseline_conversion_rate,2)\n",
    "rounded_sample_size = np.ceil(sample_size)"
   ]
  },
  {
   "cell_type": "markdown",
   "id": "01c0fdb4",
   "metadata": {},
   "source": [
    "### Output"
   ]
  },
  {
   "cell_type": "code",
   "execution_count": 15,
   "id": "bebcf27b",
   "metadata": {},
   "outputs": [
    {
     "name": "stdout",
     "output_type": "stream",
     "text": [
      "The sample size of each variation: 385\n"
     ]
    }
   ],
   "source": [
    "print(f'The sample size of each variation: {int(rounded_sample_size)}')"
   ]
  }
 ],
 "metadata": {
  "kernelspec": {
   "display_name": "Python 3.10.5 64-bit",
   "language": "python",
   "name": "python3"
  },
  "language_info": {
   "codemirror_mode": {
    "name": "ipython",
    "version": 3
   },
   "file_extension": ".py",
   "mimetype": "text/x-python",
   "name": "python",
   "nbconvert_exporter": "python",
   "pygments_lexer": "ipython3",
   "version": "3.10.5"
  },
  "vscode": {
   "interpreter": {
    "hash": "628b391e085d4f1b3c4df83c4be9f8af2acfa87d2bb15e67ac4f05c2339a1f01"
   }
  }
 },
 "nbformat": 4,
 "nbformat_minor": 5
}
